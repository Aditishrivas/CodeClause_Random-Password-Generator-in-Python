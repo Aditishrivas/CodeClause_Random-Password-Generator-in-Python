{
 "cells": [
  {
   "cell_type": "markdown",
   "id": "cc23f141",
   "metadata": {},
   "source": [
    "# CodeClause "
   ]
  },
  {
   "cell_type": "markdown",
   "id": "b059bb1d",
   "metadata": {},
   "source": [
    "Name: ADITI SHRIVAS"
   ]
  },
  {
   "cell_type": "code",
   "execution_count": 1,
   "id": "450aa869",
   "metadata": {},
   "outputs": [],
   "source": [
    "from tkinter import *"
   ]
  },
  {
   "cell_type": "code",
   "execution_count": 2,
   "id": "e4ed9da0",
   "metadata": {},
   "outputs": [],
   "source": [
    "import random"
   ]
  },
  {
   "cell_type": "code",
   "execution_count": 3,
   "id": "84e69a5b",
   "metadata": {},
   "outputs": [],
   "source": [
    "root = Tk()\n",
    "root.geometry(\"700x300\")\n",
    "pwd = StringVar()\n",
    "pwdlen = IntVar()\n",
    "pwdlen.set(0)"
   ]
  },
  {
   "cell_type": "code",
   "execution_count": 4,
   "id": "4c7fff9e",
   "metadata": {},
   "outputs": [],
   "source": [
    "def generate():\n",
    "    p1 = ['a','b', 'c', 'd', 'e', 'f', 'g', 'h', 'i', 'j',\n",
    "        'k', 'l', 'm', 'n', 'o', 'p', 'q', 'r', 's', 't',\n",
    "        'u', 'v', 'w', 'x', 'y', 'z', 'A', 'B', 'C', 'D',\n",
    "        'E', 'F', 'G', 'H', 'I', 'J', 'K', 'L', 'M', 'N',\n",
    "        'O', 'P', 'Q', 'R', 'S', 'T', 'U', 'V', 'W', 'X',\n",
    "        'Y', 'Z', '1', '2', '3', '4', '5', '6', '7', '8',\n",
    "        '9', '0', ' ', '!', '@', '#', '$', '%', '^', '&',\n",
    "        '*', '(', ')','_']\n",
    "    \n",
    "    password = \"\"\n",
    "    for x in range(pwdlen.get()):\n",
    "        password = password + random.choice(p1)\n",
    "    pwd.set(password)"
   ]
  },
  {
   "cell_type": "code",
   "execution_count": 5,
   "id": "b9156a05",
   "metadata": {},
   "outputs": [],
   "source": [
    "Label(root, text = \"Random Password Generator\", font = \"Courier 30 bold\").pack()\n",
    "Label(root,text= \"Enter the size of the Password\").pack(pady=3)\n",
    "Entry(root,textvariable = pwdlen).pack(pady=3)\n",
    "Button(root, text = \"Get Password\",command = generate, bg='#ffffff', activebackground='#00ff00').pack(pady=7)\n",
    "Entry(root,textvariable=pwd).pack(pady=3)\n",
    "root.mainloop()"
   ]
  },
  {
   "cell_type": "code",
   "execution_count": null,
   "id": "76e11f30",
   "metadata": {},
   "outputs": [],
   "source": []
  }
 ],
 "metadata": {
  "kernelspec": {
   "display_name": "Python 3 (ipykernel)",
   "language": "python",
   "name": "python3"
  },
  "language_info": {
   "codemirror_mode": {
    "name": "ipython",
    "version": 3
   },
   "file_extension": ".py",
   "mimetype": "text/x-python",
   "name": "python",
   "nbconvert_exporter": "python",
   "pygments_lexer": "ipython3",
   "version": "3.9.13"
  }
 },
 "nbformat": 4,
 "nbformat_minor": 5
}
